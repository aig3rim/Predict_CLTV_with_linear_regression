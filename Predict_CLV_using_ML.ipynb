{
 "cells": [
  {
   "cell_type": "markdown",
   "metadata": {},
   "source": [
    "# Predict CLV"
   ]
  },
  {
   "cell_type": "markdown",
   "metadata": {},
   "source": [
    "## Background"
   ]
  },
  {
   "cell_type": "code",
   "execution_count": null,
   "metadata": {},
   "outputs": [],
   "source": []
  },
  {
   "cell_type": "markdown",
   "metadata": {},
   "source": [
    "## Data wrangling"
   ]
  },
  {
   "cell_type": "code",
   "execution_count": 1,
   "metadata": {},
   "outputs": [],
   "source": [
    "import pandas as pd\n",
    "import numpy as np\n",
    "import matplotlib.pyplot as plt\n",
    "import seaborn as sns\n",
    "%matplotlib inline"
   ]
  },
  {
   "cell_type": "code",
   "execution_count": 2,
   "metadata": {},
   "outputs": [],
   "source": [
    "df = pd.read_excel('online_retail_dataset.xlsx', sheet_name='Online Retail')"
   ]
  },
  {
   "cell_type": "code",
   "execution_count": 3,
   "metadata": {},
   "outputs": [
    {
     "data": {
      "text/html": [
       "<div>\n",
       "<style scoped>\n",
       "    .dataframe tbody tr th:only-of-type {\n",
       "        vertical-align: middle;\n",
       "    }\n",
       "\n",
       "    .dataframe tbody tr th {\n",
       "        vertical-align: top;\n",
       "    }\n",
       "\n",
       "    .dataframe thead th {\n",
       "        text-align: right;\n",
       "    }\n",
       "</style>\n",
       "<table border=\"1\" class=\"dataframe\">\n",
       "  <thead>\n",
       "    <tr style=\"text-align: right;\">\n",
       "      <th></th>\n",
       "      <th>InvoiceNo</th>\n",
       "      <th>StockCode</th>\n",
       "      <th>Description</th>\n",
       "      <th>Quantity</th>\n",
       "      <th>InvoiceDate</th>\n",
       "      <th>UnitPrice</th>\n",
       "      <th>CustomerID</th>\n",
       "      <th>Country</th>\n",
       "    </tr>\n",
       "  </thead>\n",
       "  <tbody>\n",
       "    <tr>\n",
       "      <th>0</th>\n",
       "      <td>536365</td>\n",
       "      <td>85123A</td>\n",
       "      <td>WHITE HANGING HEART T-LIGHT HOLDER</td>\n",
       "      <td>6</td>\n",
       "      <td>2010-12-01 08:26:00</td>\n",
       "      <td>2.55</td>\n",
       "      <td>17850.0</td>\n",
       "      <td>United Kingdom</td>\n",
       "    </tr>\n",
       "    <tr>\n",
       "      <th>1</th>\n",
       "      <td>536365</td>\n",
       "      <td>71053</td>\n",
       "      <td>WHITE METAL LANTERN</td>\n",
       "      <td>6</td>\n",
       "      <td>2010-12-01 08:26:00</td>\n",
       "      <td>3.39</td>\n",
       "      <td>17850.0</td>\n",
       "      <td>United Kingdom</td>\n",
       "    </tr>\n",
       "    <tr>\n",
       "      <th>2</th>\n",
       "      <td>536365</td>\n",
       "      <td>84406B</td>\n",
       "      <td>CREAM CUPID HEARTS COAT HANGER</td>\n",
       "      <td>8</td>\n",
       "      <td>2010-12-01 08:26:00</td>\n",
       "      <td>2.75</td>\n",
       "      <td>17850.0</td>\n",
       "      <td>United Kingdom</td>\n",
       "    </tr>\n",
       "    <tr>\n",
       "      <th>3</th>\n",
       "      <td>536365</td>\n",
       "      <td>84029G</td>\n",
       "      <td>KNITTED UNION FLAG HOT WATER BOTTLE</td>\n",
       "      <td>6</td>\n",
       "      <td>2010-12-01 08:26:00</td>\n",
       "      <td>3.39</td>\n",
       "      <td>17850.0</td>\n",
       "      <td>United Kingdom</td>\n",
       "    </tr>\n",
       "    <tr>\n",
       "      <th>4</th>\n",
       "      <td>536365</td>\n",
       "      <td>84029E</td>\n",
       "      <td>RED WOOLLY HOTTIE WHITE HEART.</td>\n",
       "      <td>6</td>\n",
       "      <td>2010-12-01 08:26:00</td>\n",
       "      <td>3.39</td>\n",
       "      <td>17850.0</td>\n",
       "      <td>United Kingdom</td>\n",
       "    </tr>\n",
       "  </tbody>\n",
       "</table>\n",
       "</div>"
      ],
      "text/plain": [
       "  InvoiceNo StockCode                          Description  Quantity  \\\n",
       "0    536365    85123A   WHITE HANGING HEART T-LIGHT HOLDER         6   \n",
       "1    536365     71053                  WHITE METAL LANTERN         6   \n",
       "2    536365    84406B       CREAM CUPID HEARTS COAT HANGER         8   \n",
       "3    536365    84029G  KNITTED UNION FLAG HOT WATER BOTTLE         6   \n",
       "4    536365    84029E       RED WOOLLY HOTTIE WHITE HEART.         6   \n",
       "\n",
       "          InvoiceDate  UnitPrice  CustomerID         Country  \n",
       "0 2010-12-01 08:26:00       2.55     17850.0  United Kingdom  \n",
       "1 2010-12-01 08:26:00       3.39     17850.0  United Kingdom  \n",
       "2 2010-12-01 08:26:00       2.75     17850.0  United Kingdom  \n",
       "3 2010-12-01 08:26:00       3.39     17850.0  United Kingdom  \n",
       "4 2010-12-01 08:26:00       3.39     17850.0  United Kingdom  "
      ]
     },
     "execution_count": 3,
     "metadata": {},
     "output_type": "execute_result"
    }
   ],
   "source": [
    "df.head()"
   ]
  },
  {
   "cell_type": "code",
   "execution_count": 4,
   "metadata": {},
   "outputs": [
    {
     "name": "stdout",
     "output_type": "stream",
     "text": [
      "<class 'pandas.core.frame.DataFrame'>\n",
      "RangeIndex: 541909 entries, 0 to 541908\n",
      "Data columns (total 8 columns):\n",
      " #   Column       Non-Null Count   Dtype         \n",
      "---  ------       --------------   -----         \n",
      " 0   InvoiceNo    541909 non-null  object        \n",
      " 1   StockCode    541909 non-null  object        \n",
      " 2   Description  540455 non-null  object        \n",
      " 3   Quantity     541909 non-null  int64         \n",
      " 4   InvoiceDate  541909 non-null  datetime64[ns]\n",
      " 5   UnitPrice    541909 non-null  float64       \n",
      " 6   CustomerID   406829 non-null  float64       \n",
      " 7   Country      541909 non-null  object        \n",
      "dtypes: datetime64[ns](1), float64(2), int64(1), object(4)\n",
      "memory usage: 33.1+ MB\n"
     ]
    }
   ],
   "source": [
    "df.info()"
   ]
  },
  {
   "cell_type": "markdown",
   "metadata": {},
   "source": [
    "*Description* and *CustomerID* columns have NULL values"
   ]
  },
  {
   "cell_type": "code",
   "execution_count": 5,
   "metadata": {},
   "outputs": [
    {
     "data": {
      "text/plain": [
       "(541909, 8)"
      ]
     },
     "execution_count": 5,
     "metadata": {},
     "output_type": "execute_result"
    }
   ],
   "source": [
    "df.shape"
   ]
  },
  {
   "cell_type": "markdown",
   "metadata": {},
   "source": [
    "## Quick EDA"
   ]
  },
  {
   "cell_type": "markdown",
   "metadata": {},
   "source": [
    "### NULL values"
   ]
  },
  {
   "cell_type": "code",
   "execution_count": 22,
   "metadata": {},
   "outputs": [
    {
     "name": "stdout",
     "output_type": "stream",
     "text": [
      "Number of missing values in the dataset: 136534\n",
      "Percentage of missing values in the dataset: 3.149375633178264\n"
     ]
    }
   ],
   "source": [
    "print('Number of missing values in the dataset:', df.isnull().sum().sum())\n",
    "print('Percentage of missing values in the dataset:', df.isnull().sum().sum()*100/(df.shape[0]*df.shape[1]))"
   ]
  },
  {
   "cell_type": "code",
   "execution_count": 25,
   "metadata": {},
   "outputs": [
    {
     "name": "stdout",
     "output_type": "stream",
     "text": [
      "Number of missing values in 'Description' column: 1454\n",
      "Percentage of missing values in 'Description' column: 0.2683107311375157\n"
     ]
    }
   ],
   "source": [
    "print(\"Number of missing values in 'Description' column:\", df['Description'].isnull().sum())\n",
    "print(\"Percentage of missing values in 'Description' column:\", df['Description'].isnull().sum()*100/df.shape[0])"
   ]
  },
  {
   "cell_type": "code",
   "execution_count": 26,
   "metadata": {},
   "outputs": [
    {
     "name": "stdout",
     "output_type": "stream",
     "text": [
      "Number of missing values in 'CustomerID' column: 135080\n",
      "Percentage of missing values in 'CustomerID' column: 24.926694334288598\n"
     ]
    }
   ],
   "source": [
    "print(\"Number of missing values in 'CustomerID' column:\", df['CustomerID'].isnull().sum())\n",
    "print(\"Percentage of missing values in 'CustomerID' column:\", df['CustomerID'].isnull().sum()*100/df.shape[0])"
   ]
  },
  {
   "cell_type": "markdown",
   "metadata": {},
   "source": [
    "About 25% of CustomerIDs is missing"
   ]
  },
  {
   "cell_type": "markdown",
   "metadata": {},
   "source": [
    "### Duplicates"
   ]
  },
  {
   "cell_type": "code",
   "execution_count": 12,
   "metadata": {},
   "outputs": [
    {
     "data": {
      "text/plain": [
       "5268"
      ]
     },
     "execution_count": 12,
     "metadata": {},
     "output_type": "execute_result"
    }
   ],
   "source": [
    "# Check the number of duplicated values\n",
    "df.duplicated().sum().sum()"
   ]
  },
  {
   "cell_type": "code",
   "execution_count": 29,
   "metadata": {},
   "outputs": [],
   "source": [
    "# Let's get the duplicated rows\n",
    "duplicates = df[df.duplicated()]"
   ]
  },
  {
   "cell_type": "code",
   "execution_count": 32,
   "metadata": {},
   "outputs": [
    {
     "data": {
      "text/html": [
       "<div>\n",
       "<style scoped>\n",
       "    .dataframe tbody tr th:only-of-type {\n",
       "        vertical-align: middle;\n",
       "    }\n",
       "\n",
       "    .dataframe tbody tr th {\n",
       "        vertical-align: top;\n",
       "    }\n",
       "\n",
       "    .dataframe thead th {\n",
       "        text-align: right;\n",
       "    }\n",
       "</style>\n",
       "<table border=\"1\" class=\"dataframe\">\n",
       "  <thead>\n",
       "    <tr style=\"text-align: right;\">\n",
       "      <th></th>\n",
       "      <th>InvoiceNo</th>\n",
       "      <th>StockCode</th>\n",
       "      <th>Description</th>\n",
       "      <th>Quantity</th>\n",
       "      <th>InvoiceDate</th>\n",
       "      <th>UnitPrice</th>\n",
       "      <th>CustomerID</th>\n",
       "      <th>Country</th>\n",
       "    </tr>\n",
       "  </thead>\n",
       "  <tbody>\n",
       "    <tr>\n",
       "      <th>517</th>\n",
       "      <td>536409</td>\n",
       "      <td>21866</td>\n",
       "      <td>UNION JACK FLAG LUGGAGE TAG</td>\n",
       "      <td>1</td>\n",
       "      <td>2010-12-01 11:45:00</td>\n",
       "      <td>1.25</td>\n",
       "      <td>17908.0</td>\n",
       "      <td>United Kingdom</td>\n",
       "    </tr>\n",
       "    <tr>\n",
       "      <th>527</th>\n",
       "      <td>536409</td>\n",
       "      <td>22866</td>\n",
       "      <td>HAND WARMER SCOTTY DOG DESIGN</td>\n",
       "      <td>1</td>\n",
       "      <td>2010-12-01 11:45:00</td>\n",
       "      <td>2.10</td>\n",
       "      <td>17908.0</td>\n",
       "      <td>United Kingdom</td>\n",
       "    </tr>\n",
       "    <tr>\n",
       "      <th>537</th>\n",
       "      <td>536409</td>\n",
       "      <td>22900</td>\n",
       "      <td>SET 2 TEA TOWELS I LOVE LONDON</td>\n",
       "      <td>1</td>\n",
       "      <td>2010-12-01 11:45:00</td>\n",
       "      <td>2.95</td>\n",
       "      <td>17908.0</td>\n",
       "      <td>United Kingdom</td>\n",
       "    </tr>\n",
       "    <tr>\n",
       "      <th>539</th>\n",
       "      <td>536409</td>\n",
       "      <td>22111</td>\n",
       "      <td>SCOTTIE DOG HOT WATER BOTTLE</td>\n",
       "      <td>1</td>\n",
       "      <td>2010-12-01 11:45:00</td>\n",
       "      <td>4.95</td>\n",
       "      <td>17908.0</td>\n",
       "      <td>United Kingdom</td>\n",
       "    </tr>\n",
       "    <tr>\n",
       "      <th>555</th>\n",
       "      <td>536412</td>\n",
       "      <td>22327</td>\n",
       "      <td>ROUND SNACK BOXES SET OF 4 SKULLS</td>\n",
       "      <td>1</td>\n",
       "      <td>2010-12-01 11:49:00</td>\n",
       "      <td>2.95</td>\n",
       "      <td>17920.0</td>\n",
       "      <td>United Kingdom</td>\n",
       "    </tr>\n",
       "    <tr>\n",
       "      <th>587</th>\n",
       "      <td>536412</td>\n",
       "      <td>22273</td>\n",
       "      <td>FELTCRAFT DOLL MOLLY</td>\n",
       "      <td>1</td>\n",
       "      <td>2010-12-01 11:49:00</td>\n",
       "      <td>2.95</td>\n",
       "      <td>17920.0</td>\n",
       "      <td>United Kingdom</td>\n",
       "    </tr>\n",
       "    <tr>\n",
       "      <th>589</th>\n",
       "      <td>536412</td>\n",
       "      <td>22749</td>\n",
       "      <td>FELTCRAFT PRINCESS CHARLOTTE DOLL</td>\n",
       "      <td>1</td>\n",
       "      <td>2010-12-01 11:49:00</td>\n",
       "      <td>3.75</td>\n",
       "      <td>17920.0</td>\n",
       "      <td>United Kingdom</td>\n",
       "    </tr>\n",
       "    <tr>\n",
       "      <th>594</th>\n",
       "      <td>536412</td>\n",
       "      <td>22141</td>\n",
       "      <td>CHRISTMAS CRAFT TREE TOP ANGEL</td>\n",
       "      <td>1</td>\n",
       "      <td>2010-12-01 11:49:00</td>\n",
       "      <td>2.10</td>\n",
       "      <td>17920.0</td>\n",
       "      <td>United Kingdom</td>\n",
       "    </tr>\n",
       "    <tr>\n",
       "      <th>598</th>\n",
       "      <td>536412</td>\n",
       "      <td>21448</td>\n",
       "      <td>12 DAISY PEGS IN WOOD BOX</td>\n",
       "      <td>1</td>\n",
       "      <td>2010-12-01 11:49:00</td>\n",
       "      <td>1.65</td>\n",
       "      <td>17920.0</td>\n",
       "      <td>United Kingdom</td>\n",
       "    </tr>\n",
       "    <tr>\n",
       "      <th>600</th>\n",
       "      <td>536412</td>\n",
       "      <td>22569</td>\n",
       "      <td>FELTCRAFT CUSHION BUTTERFLY</td>\n",
       "      <td>2</td>\n",
       "      <td>2010-12-01 11:49:00</td>\n",
       "      <td>3.75</td>\n",
       "      <td>17920.0</td>\n",
       "      <td>United Kingdom</td>\n",
       "    </tr>\n",
       "    <tr>\n",
       "      <th>601</th>\n",
       "      <td>536412</td>\n",
       "      <td>21448</td>\n",
       "      <td>12 DAISY PEGS IN WOOD BOX</td>\n",
       "      <td>2</td>\n",
       "      <td>2010-12-01 11:49:00</td>\n",
       "      <td>1.65</td>\n",
       "      <td>17920.0</td>\n",
       "      <td>United Kingdom</td>\n",
       "    </tr>\n",
       "    <tr>\n",
       "      <th>604</th>\n",
       "      <td>536412</td>\n",
       "      <td>21448</td>\n",
       "      <td>12 DAISY PEGS IN WOOD BOX</td>\n",
       "      <td>2</td>\n",
       "      <td>2010-12-01 11:49:00</td>\n",
       "      <td>1.65</td>\n",
       "      <td>17920.0</td>\n",
       "      <td>United Kingdom</td>\n",
       "    </tr>\n",
       "    <tr>\n",
       "      <th>605</th>\n",
       "      <td>536412</td>\n",
       "      <td>22902</td>\n",
       "      <td>TOTE BAG I LOVE LONDON</td>\n",
       "      <td>7</td>\n",
       "      <td>2010-12-01 11:49:00</td>\n",
       "      <td>2.10</td>\n",
       "      <td>17920.0</td>\n",
       "      <td>United Kingdom</td>\n",
       "    </tr>\n",
       "    <tr>\n",
       "      <th>616</th>\n",
       "      <td>536412</td>\n",
       "      <td>21708</td>\n",
       "      <td>FOLDING UMBRELLA CREAM POLKADOT</td>\n",
       "      <td>1</td>\n",
       "      <td>2010-12-01 11:49:00</td>\n",
       "      <td>4.95</td>\n",
       "      <td>17920.0</td>\n",
       "      <td>United Kingdom</td>\n",
       "    </tr>\n",
       "    <tr>\n",
       "      <th>617</th>\n",
       "      <td>536412</td>\n",
       "      <td>22900</td>\n",
       "      <td>SET 2 TEA TOWELS I LOVE LONDON</td>\n",
       "      <td>2</td>\n",
       "      <td>2010-12-01 11:49:00</td>\n",
       "      <td>2.95</td>\n",
       "      <td>17920.0</td>\n",
       "      <td>United Kingdom</td>\n",
       "    </tr>\n",
       "    <tr>\n",
       "      <th>618</th>\n",
       "      <td>536412</td>\n",
       "      <td>21706</td>\n",
       "      <td>FOLDING UMBRELLA RED/WHITE POLKADOT</td>\n",
       "      <td>1</td>\n",
       "      <td>2010-12-01 11:49:00</td>\n",
       "      <td>4.95</td>\n",
       "      <td>17920.0</td>\n",
       "      <td>United Kingdom</td>\n",
       "    </tr>\n",
       "    <tr>\n",
       "      <th>620</th>\n",
       "      <td>536412</td>\n",
       "      <td>85184C</td>\n",
       "      <td>S/4 VALENTINE DECOUPAGE HEART BOX</td>\n",
       "      <td>1</td>\n",
       "      <td>2010-12-01 11:49:00</td>\n",
       "      <td>2.95</td>\n",
       "      <td>17920.0</td>\n",
       "      <td>United Kingdom</td>\n",
       "    </tr>\n",
       "    <tr>\n",
       "      <th>758</th>\n",
       "      <td>536446</td>\n",
       "      <td>21651</td>\n",
       "      <td>HANGING GLASS ETCHED TEALIGHT</td>\n",
       "      <td>6</td>\n",
       "      <td>2010-12-01 12:15:00</td>\n",
       "      <td>1.65</td>\n",
       "      <td>15983.0</td>\n",
       "      <td>United Kingdom</td>\n",
       "    </tr>\n",
       "    <tr>\n",
       "      <th>831</th>\n",
       "      <td>536464</td>\n",
       "      <td>22866</td>\n",
       "      <td>HAND WARMER SCOTTY DOG DESIGN</td>\n",
       "      <td>1</td>\n",
       "      <td>2010-12-01 12:23:00</td>\n",
       "      <td>2.10</td>\n",
       "      <td>17968.0</td>\n",
       "      <td>United Kingdom</td>\n",
       "    </tr>\n",
       "    <tr>\n",
       "      <th>835</th>\n",
       "      <td>536464</td>\n",
       "      <td>22945</td>\n",
       "      <td>CHRISTMAS METAL TAGS ASSORTED</td>\n",
       "      <td>6</td>\n",
       "      <td>2010-12-01 12:23:00</td>\n",
       "      <td>0.85</td>\n",
       "      <td>17968.0</td>\n",
       "      <td>United Kingdom</td>\n",
       "    </tr>\n",
       "  </tbody>\n",
       "</table>\n",
       "</div>"
      ],
      "text/plain": [
       "    InvoiceNo StockCode                          Description  Quantity  \\\n",
       "517    536409     21866          UNION JACK FLAG LUGGAGE TAG         1   \n",
       "527    536409     22866        HAND WARMER SCOTTY DOG DESIGN         1   \n",
       "537    536409     22900      SET 2 TEA TOWELS I LOVE LONDON          1   \n",
       "539    536409     22111         SCOTTIE DOG HOT WATER BOTTLE         1   \n",
       "555    536412     22327    ROUND SNACK BOXES SET OF 4 SKULLS         1   \n",
       "587    536412     22273                 FELTCRAFT DOLL MOLLY         1   \n",
       "589    536412     22749    FELTCRAFT PRINCESS CHARLOTTE DOLL         1   \n",
       "594    536412     22141       CHRISTMAS CRAFT TREE TOP ANGEL         1   \n",
       "598    536412     21448            12 DAISY PEGS IN WOOD BOX         1   \n",
       "600    536412     22569          FELTCRAFT CUSHION BUTTERFLY         2   \n",
       "601    536412     21448            12 DAISY PEGS IN WOOD BOX         2   \n",
       "604    536412     21448            12 DAISY PEGS IN WOOD BOX         2   \n",
       "605    536412     22902               TOTE BAG I LOVE LONDON         7   \n",
       "616    536412     21708      FOLDING UMBRELLA CREAM POLKADOT         1   \n",
       "617    536412     22900      SET 2 TEA TOWELS I LOVE LONDON          2   \n",
       "618    536412     21706  FOLDING UMBRELLA RED/WHITE POLKADOT         1   \n",
       "620    536412    85184C    S/4 VALENTINE DECOUPAGE HEART BOX         1   \n",
       "758    536446     21651        HANGING GLASS ETCHED TEALIGHT         6   \n",
       "831    536464     22866        HAND WARMER SCOTTY DOG DESIGN         1   \n",
       "835    536464     22945       CHRISTMAS METAL TAGS ASSORTED          6   \n",
       "\n",
       "            InvoiceDate  UnitPrice  CustomerID         Country  \n",
       "517 2010-12-01 11:45:00       1.25     17908.0  United Kingdom  \n",
       "527 2010-12-01 11:45:00       2.10     17908.0  United Kingdom  \n",
       "537 2010-12-01 11:45:00       2.95     17908.0  United Kingdom  \n",
       "539 2010-12-01 11:45:00       4.95     17908.0  United Kingdom  \n",
       "555 2010-12-01 11:49:00       2.95     17920.0  United Kingdom  \n",
       "587 2010-12-01 11:49:00       2.95     17920.0  United Kingdom  \n",
       "589 2010-12-01 11:49:00       3.75     17920.0  United Kingdom  \n",
       "594 2010-12-01 11:49:00       2.10     17920.0  United Kingdom  \n",
       "598 2010-12-01 11:49:00       1.65     17920.0  United Kingdom  \n",
       "600 2010-12-01 11:49:00       3.75     17920.0  United Kingdom  \n",
       "601 2010-12-01 11:49:00       1.65     17920.0  United Kingdom  \n",
       "604 2010-12-01 11:49:00       1.65     17920.0  United Kingdom  \n",
       "605 2010-12-01 11:49:00       2.10     17920.0  United Kingdom  \n",
       "616 2010-12-01 11:49:00       4.95     17920.0  United Kingdom  \n",
       "617 2010-12-01 11:49:00       2.95     17920.0  United Kingdom  \n",
       "618 2010-12-01 11:49:00       4.95     17920.0  United Kingdom  \n",
       "620 2010-12-01 11:49:00       2.95     17920.0  United Kingdom  \n",
       "758 2010-12-01 12:15:00       1.65     15983.0  United Kingdom  \n",
       "831 2010-12-01 12:23:00       2.10     17968.0  United Kingdom  \n",
       "835 2010-12-01 12:23:00       0.85     17968.0  United Kingdom  "
      ]
     },
     "execution_count": 32,
     "metadata": {},
     "output_type": "execute_result"
    }
   ],
   "source": [
    "duplicates[:20]"
   ]
  },
  {
   "cell_type": "markdown",
   "metadata": {},
   "source": [
    "It seems that products, which were bought together in one invoice, were considered as duplicates. However, there are no duplicates, if we look at the *Description* column"
   ]
  },
  {
   "cell_type": "markdown",
   "metadata": {},
   "source": [
    "### Number of unique customers"
   ]
  },
  {
   "cell_type": "code",
   "execution_count": 33,
   "metadata": {},
   "outputs": [
    {
     "data": {
      "text/plain": [
       "4372"
      ]
     },
     "execution_count": 33,
     "metadata": {},
     "output_type": "execute_result"
    }
   ],
   "source": [
    "df['CustomerID'].nunique()"
   ]
  },
  {
   "cell_type": "markdown",
   "metadata": {},
   "source": [
    "### Number of purchases"
   ]
  },
  {
   "cell_type": "code",
   "execution_count": 34,
   "metadata": {},
   "outputs": [
    {
     "data": {
      "text/plain": [
       "25900"
      ]
     },
     "execution_count": 34,
     "metadata": {},
     "output_type": "execute_result"
    }
   ],
   "source": [
    "df['InvoiceNo'].nunique()"
   ]
  },
  {
   "cell_type": "markdown",
   "metadata": {},
   "source": [
    "### Period of time"
   ]
  },
  {
   "cell_type": "code",
   "execution_count": 35,
   "metadata": {},
   "outputs": [
    {
     "data": {
      "text/plain": [
       "Timestamp('2010-12-01 08:26:00')"
      ]
     },
     "execution_count": 35,
     "metadata": {},
     "output_type": "execute_result"
    }
   ],
   "source": [
    "df['InvoiceDate'].min()"
   ]
  },
  {
   "cell_type": "code",
   "execution_count": 36,
   "metadata": {},
   "outputs": [
    {
     "data": {
      "text/plain": [
       "Timestamp('2011-12-09 12:50:00')"
      ]
     },
     "execution_count": 36,
     "metadata": {},
     "output_type": "execute_result"
    }
   ],
   "source": [
    "df['InvoiceDate'].max()"
   ]
  },
  {
   "cell_type": "markdown",
   "metadata": {},
   "source": [
    "### Country"
   ]
  },
  {
   "cell_type": "code",
   "execution_count": 40,
   "metadata": {},
   "outputs": [
    {
     "data": {
      "image/png": "[encoded data removed]",
      "text/plain": [
       "<Figure size 432x288 with 1 Axes>"
      ]
     },
     "metadata": {
      "needs_background": "light"
     },
     "output_type": "display_data"
    }
   ],
   "source": [
    "df['Country'].value_counts().plot.bar();"
   ]
  },
  {
   "cell_type": "code",
   "execution_count": 41,
   "metadata": {},
   "outputs": [
    {
     "data": {
      "text/plain": [
       "38"
      ]
     },
     "execution_count": 41,
     "metadata": {},
     "output_type": "execute_result"
    }
   ],
   "source": [
    "df['Country'].nunique()"
   ]
  },
  {
   "cell_type": "markdown",
   "metadata": {},
   "source": [
    "So we have approximately 1 year data record of 25,900 purchases for 4,372 unique users made in 38 countries (mostly in the UK)"
   ]
  },
  {
   "cell_type": "markdown",
   "metadata": {},
   "source": [
    "### Quantity and unit price of the products"
   ]
  },
  {
   "cell_type": "code",
   "execution_count": null,
   "metadata": {},
   "outputs": [],
   "source": [
    "# Let's look at the price distribution of the products"
   ]
  },
  {
   "cell_type": "code",
   "execution_count": 42,
   "metadata": {},
   "outputs": [
    {
     "data": {
      "image/png": "[encoded data removed]",
      "text/plain": [
       "<Figure size 720x720 with 1 Axes>"
      ]
     },
     "metadata": {
      "needs_background": "light"
     },
     "output_type": "display_data"
    }
   ],
   "source": [
    "\n",
    "\n",
    "plt.figure(figsize=(10, 10))\n",
    "bplot = sns.boxplot(y=\"UnitPrice\", data=df, width=0.5)\n",
    "bplot.axes.set_title(\"Unit price distribution\",fontsize=16)\n",
    "bplot.set_ylabel(\"Unit price\", fontsize=14)\n",
    "bplot.tick_params(labelsize=10)"
   ]
  },
  {
   "cell_type": "code",
   "execution_count": null,
   "metadata": {},
   "outputs": [],
   "source": []
  },
  {
   "cell_type": "code",
   "execution_count": null,
   "metadata": {},
   "outputs": [],
   "source": []
  },
  {
   "cell_type": "code",
   "execution_count": null,
   "metadata": {},
   "outputs": [],
   "source": []
  },
  {
   "cell_type": "code",
   "execution_count": null,
   "metadata": {},
   "outputs": [],
   "source": []
  },
  {
   "cell_type": "code",
   "execution_count": null,
   "metadata": {},
   "outputs": [],
   "source": []
  },
  {
   "cell_type": "code",
   "execution_count": null,
   "metadata": {},
   "outputs": [],
   "source": []
  },
  {
   "cell_type": "code",
   "execution_count": null,
   "metadata": {},
   "outputs": [],
   "source": []
  },
  {
   "cell_type": "code",
   "execution_count": null,
   "metadata": {},
   "outputs": [],
   "source": []
  }
 ],
 "metadata": {
  "kernelspec": {
   "display_name": "Python 3",
   "language": "python",
   "name": "python3"
  },
  "language_info": {
   "codemirror_mode": {
    "name": "ipython",
    "version": 3
   },
   "file_extension": ".py",
   "mimetype": "text/x-python",
   "name": "python",
   "nbconvert_exporter": "python",
   "pygments_lexer": "ipython3",
   "version": "3.7.9"
  }
 },
 "nbformat": 4,
 "nbformat_minor": 4
}
